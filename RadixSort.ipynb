{
  "cells": [
    {
      "cell_type": "markdown",
      "metadata": {
        "id": "view-in-github",
        "colab_type": "text"
      },
      "source": [
        "<a href=\"https://colab.research.google.com/github/t-fuchi/RadixSort/blob/main/RadixSort.ipynb\" target=\"_parent\"><img src=\"https://colab.research.google.com/assets/colab-badge.svg\" alt=\"Open In Colab\"/></a>"
      ]
    },
    {
      "cell_type": "markdown",
      "metadata": {
        "id": "JibC-h-X0fN0"
      },
      "source": [
        "# Radix Sortで浮動小数点数をソートする！\n",
        "\n",
        "皆さん、[基数ソート](https://ja.wikipedia.org/wiki/%E5%9F%BA%E6%95%B0%E3%82%BD%E3%83%BC%E3%83%88)(Radix Sort)はご存知ですね？O(kN)のすごいやつです。実はMacに搭載されているBSDのsortコマンドは、--radixsortオプションがあったりします。ただし、このコマンドは数値には使えないとマニュアルに書いてあります。もともと文字列用に考案されたものだからでしょうか。そんな中、[こんな記事](https://probablydance.com/2016/12/27/i-wrote-a-faster-sorting-algorithm/)を見つけました。整数はもとより、浮動小数点数でも基数ソート出来るよ〜という記事です。詳しくは記事を読んでいただくとして、この記事にはソースコードが付いています。これは早速ダウンロードしてColab上で性能検証したい！ということでやってみました。"
      ]
    },
    {
      "cell_type": "markdown",
      "metadata": {
        "id": "wsENQWrrV0LI"
      },
      "source": [
        "## 乱数の生成\n",
        "\n",
        "乱数を10億個生成します。20分以上かかります。"
      ]
    },
    {
      "cell_type": "code",
      "execution_count": null,
      "metadata": {
        "colab": {
          "background_save": true
        },
        "id": "__j7_RcF2UVj",
        "outputId": "34b53f1d-55aa-4a7e-92ed-40164123c8e2"
      },
      "outputs": [
        {
          "name": "stdout",
          "output_type": "stream",
          "text": [
            "CPU times: user 23min 45s, sys: 36.8 s, total: 24min 22s\n",
            "Wall time: 24min 37s\n"
          ]
        }
      ],
      "source": [
        "%%time\n",
        "from random import random\n",
        "\n",
        "with open('input', 'w') as fout:\n",
        "    for _ in range(1000000000):\n",
        "        print((random() - 0.5) * 1000000, file=fout)"
      ]
    },
    {
      "cell_type": "markdown",
      "metadata": {
        "id": "RwhvNhc6V55v"
      },
      "source": [
        "## sortコマンド"
      ]
    },
    {
      "cell_type": "markdown",
      "metadata": {
        "id": "6j4H6VLSYd3h"
      },
      "source": [
        "比較のため、sortコマンドでソートして、時間を測定します。40分近くかかります。"
      ]
    },
    {
      "cell_type": "code",
      "execution_count": null,
      "metadata": {
        "colab": {
          "background_save": true
        },
        "id": "u-LhIQ_12-mU",
        "outputId": "cd53b2de-c887-41fc-d108-044b17cffe6a"
      },
      "outputs": [
        {
          "name": "stdout",
          "output_type": "stream",
          "text": [
            "CPU times: user 11.2 s, sys: 1.37 s, total: 12.6 s\n",
            "Wall time: 39min 30s\n"
          ]
        }
      ],
      "source": [
        "%%time\n",
        "!sort -n input > output_sort"
      ]
    },
    {
      "cell_type": "code",
      "execution_count": null,
      "metadata": {
        "colab": {
          "background_save": true
        },
        "id": "DaSPlzo6WUir",
        "outputId": "86aa9316-71cb-4b10-a4f2-854fb387e07d"
      },
      "outputs": [
        {
          "name": "stdout",
          "output_type": "stream",
          "text": [
            "1000000000 output_sort\n",
            "-499999.99974544795\n",
            "-499999.99890903855\n",
            "-499999.9982175315\n",
            "-499999.9977990386\n",
            "-499999.9960182383\n",
            "-499999.9955448005\n",
            "-499999.99452409195\n",
            "-499999.9943637242\n",
            "-499999.9931208382\n",
            "-499999.9897155051\n"
          ]
        }
      ],
      "source": [
        "!wc -l output_sort\n",
        "!head output_sort"
      ]
    },
    {
      "cell_type": "markdown",
      "metadata": {
        "id": "m15vX8mtYoKy"
      },
      "source": [
        "ちゃんとソートできています。"
      ]
    },
    {
      "cell_type": "markdown",
      "metadata": {
        "id": "X6dYpa8wULWV"
      },
      "source": [
        "## std::sort\n",
        "\n",
        "STLのsortを使ってソートしてみます。"
      ]
    },
    {
      "cell_type": "code",
      "execution_count": null,
      "metadata": {
        "colab": {
          "background_save": true
        },
        "id": "SUJLIBHsQofV",
        "outputId": "d5e63519-8684-4d62-898d-c50ff2eef68f"
      },
      "outputs": [
        {
          "name": "stdout",
          "output_type": "stream",
          "text": [
            "Writing /content/std_sort_vector.cpp\n"
          ]
        }
      ],
      "source": [
        "%%writefile /content/std_sort_vector.cpp\n",
        "\n",
        "#include <stdio.h>\n",
        "#include <stdlib.h>\n",
        "#include <chrono>\n",
        "#include <vector>\n",
        "#include <algorithm>\n",
        "\n",
        "int main(int argc, char *argv[])\n",
        "{\n",
        "    char buf[BUFSIZ];\n",
        "    std::vector<double> input;\n",
        "\n",
        "    auto start = std::chrono::system_clock::now();\n",
        "    while (fgets(buf, BUFSIZ, stdin) != NULL) {\n",
        "        input.push_back(atof(buf));\n",
        "    }\n",
        "    auto end = std::chrono::system_clock::now();\n",
        "    double elapsed = std::chrono::duration_cast<std::chrono::milliseconds>(end-start).count();\n",
        "    fprintf(stderr, \"load: %f sec\\n\", elapsed / 1000);\n",
        "\n",
        "    start = std::chrono::system_clock::now();\n",
        "    std::sort(input.begin(), input.end());\n",
        "    end = std::chrono::system_clock::now();\n",
        "    elapsed = std::chrono::duration_cast<std::chrono::milliseconds>(end-start).count();\n",
        "    fprintf(stderr, \"sort: %f sec\\n\", elapsed / 1000);\n",
        "\n",
        "    start = std::chrono::system_clock::now();\n",
        "    for (size_t i = 0; i < input.size(); i++)\n",
        "    {\n",
        "        printf(\"%.12lf\\n\", input[i]);\n",
        "    }\n",
        "    end = std::chrono::system_clock::now();\n",
        "    elapsed = std::chrono::duration_cast<std::chrono::milliseconds>(end-start).count();\n",
        "    fprintf(stderr, \"out:  %f sec\\n\", elapsed / 1000);\n",
        "}"
      ]
    },
    {
      "cell_type": "code",
      "execution_count": null,
      "metadata": {
        "colab": {
          "background_save": true
        },
        "id": "PkbHcJo7Sey8"
      },
      "outputs": [],
      "source": [
        "!g++ -Ofast std_sort_vector.cpp"
      ]
    },
    {
      "cell_type": "code",
      "execution_count": null,
      "metadata": {
        "colab": {
          "base_uri": "https://localhost:8080/"
        },
        "id": "GyjaQcEcSl4y",
        "outputId": "f5e907da-e4ca-4c13-8ce5-63a9e4497479"
      },
      "outputs": [
        {
          "output_type": "stream",
          "name": "stdout",
          "text": [
            "load: 287.233000 sec\n",
            "sort: 152.108000 sec\n",
            "out:  1266.370000 sec\n",
            "CPU times: user 7.85 s, sys: 876 ms, total: 8.73 s\n",
            "Wall time: 28min 26s\n"
          ]
        }
      ],
      "source": [
        "%%time\n",
        "!./a.out < input > output_std_vector"
      ]
    },
    {
      "cell_type": "code",
      "execution_count": null,
      "metadata": {
        "colab": {
          "base_uri": "https://localhost:8080/"
        },
        "id": "AbCZdnuAS0CA",
        "outputId": "611b1d0e-cd60-46d9-cd64-b65d208edca5"
      },
      "outputs": [
        {
          "output_type": "stream",
          "name": "stdout",
          "text": [
            "1000000000 output_std_vector\n",
            "-499999.999745447945\n",
            "-499999.998909038550\n",
            "-499999.998217531480\n",
            "-499999.997799038596\n",
            "-499999.996018238307\n",
            "-499999.995544800477\n",
            "-499999.994524091948\n",
            "-499999.994363724196\n",
            "-499999.993120838189\n",
            "-499999.989715505100\n"
          ]
        }
      ],
      "source": [
        "!wc -l output_std_vector\n",
        "!head output_std_vector"
      ]
    },
    {
      "cell_type": "markdown",
      "metadata": {
        "id": "5iMZARn7ZqZw"
      },
      "source": [
        "IOの時間が26分で同じとすると、sortコマンドのソートの時間は15分です。STLのsortは2分半ですから相当早い。速いとは聞いていましたが、浮動小数点数に特化しているのも効いている可能性があります。sortコマンドは高機能な分、余計な処理が挟まっているのかもしれません。"
      ]
    },
    {
      "cell_type": "markdown",
      "metadata": {
        "id": "wqelW8uDC-an"
      },
      "source": [
        "## ska sort\n",
        "\n",
        "それでは基数ソートを測定しましょう。"
      ]
    },
    {
      "cell_type": "code",
      "execution_count": null,
      "metadata": {
        "colab": {
          "base_uri": "https://localhost:8080/"
        },
        "id": "ckFh4-1lCvkK",
        "outputId": "7938c535-f9d0-45ba-c7f0-20558baa98db"
      },
      "outputs": [
        {
          "output_type": "stream",
          "name": "stdout",
          "text": [
            "/content\n",
            "Cloning into 'ska_sort'...\n",
            "remote: Enumerating objects: 16, done.\u001b[K\n",
            "remote: Total 16 (delta 0), reused 0 (delta 0), pack-reused 16\u001b[K\n",
            "Receiving objects: 100% (16/16), 14.25 KiB | 7.13 MiB/s, done.\n",
            "Resolving deltas: 100% (4/4), done.\n"
          ]
        }
      ],
      "source": [
        "%cd /content\n",
        "!git clone https://github.com/skarupke/ska_sort.git"
      ]
    },
    {
      "cell_type": "code",
      "execution_count": null,
      "metadata": {
        "colab": {
          "base_uri": "https://localhost:8080/"
        },
        "id": "g2BArCAKERnd",
        "outputId": "8a173c9a-a72c-4324-dbe9-c7a473d636ad"
      },
      "outputs": [
        {
          "output_type": "stream",
          "name": "stdout",
          "text": [
            "Writing /content/ska_sort.cpp\n"
          ]
        }
      ],
      "source": [
        "%%writefile /content/ska_sort.cpp\n",
        "#include <stdio.h>\n",
        "#include <stdlib.h>\n",
        "#include <vector>\n",
        "#include <chrono>\n",
        "#include \"ska_sort/ska_sort.hpp\"\n",
        "\n",
        "int main(int argc, char *argv[])\n",
        "{\n",
        "    char buf[BUFSIZ];\n",
        "    std::vector<double> input;\n",
        "    double f;\n",
        "\n",
        "    auto start = std::chrono::system_clock::now();\n",
        "    while (fgets(buf, BUFSIZ, stdin) != NULL) {\n",
        "        input.push_back(atof(buf));\n",
        "    }\n",
        "    auto end = std::chrono::system_clock::now();\n",
        "    double elapsed = std::chrono::duration_cast<std::chrono::milliseconds>(end-start).count();\n",
        "    fprintf(stderr, \"load: %f sec\\n\", elapsed / 1000);\n",
        "\n",
        "    start = std::chrono::system_clock::now();\n",
        "    ska_sort(input.begin(), input.end());\n",
        "    end = std::chrono::system_clock::now();\n",
        "    elapsed = std::chrono::duration_cast<std::chrono::milliseconds>(end-start).count();\n",
        "    fprintf(stderr, \"sort: %f sec\\n\", elapsed / 1000);\n",
        "\n",
        "    start = std::chrono::system_clock::now();\n",
        "    for (size_t i = 0; i < input.size(); i++)\n",
        "    {\n",
        "        printf(\"%.12lf\\n\", input[i]);\n",
        "    }\n",
        "    end = std::chrono::system_clock::now();\n",
        "    elapsed = std::chrono::duration_cast<std::chrono::milliseconds>(end-start).count();\n",
        "    fprintf(stderr, \"out:  %f sec\\n\", elapsed / 1000);\n",
        "}"
      ]
    },
    {
      "cell_type": "code",
      "execution_count": null,
      "metadata": {
        "id": "tLHJABaeFRRy"
      },
      "outputs": [],
      "source": [
        "!g++ -Ofast ska_sort.cpp"
      ]
    },
    {
      "cell_type": "code",
      "execution_count": null,
      "metadata": {
        "colab": {
          "base_uri": "https://localhost:8080/"
        },
        "id": "eTqqYKIbLUwV",
        "outputId": "10bd44d7-8922-4a51-ce32-c64d8a1637e9"
      },
      "outputs": [
        {
          "output_type": "stream",
          "name": "stdout",
          "text": [
            "load: 279.663000 sec\n",
            "sort: 59.707000 sec\n",
            "out:  1266.158000 sec\n",
            "CPU times: user 7.29 s, sys: 839 ms, total: 8.13 s\n",
            "Wall time: 26min 46s\n"
          ]
        }
      ],
      "source": [
        "%%time\n",
        "!./a.out < input > output_ska"
      ]
    },
    {
      "cell_type": "code",
      "execution_count": null,
      "metadata": {
        "id": "u2ZAGt4oLdBy",
        "colab": {
          "base_uri": "https://localhost:8080/"
        },
        "outputId": "e14b6e52-4a6e-4b44-f4d4-7c5dddfff061"
      },
      "outputs": [
        {
          "output_type": "stream",
          "name": "stdout",
          "text": [
            "1000000000 output_ska\n",
            "-499999.999745447945\n",
            "-499999.998909038550\n",
            "-499999.998217531480\n",
            "-499999.997799038596\n",
            "-499999.996018238307\n",
            "-499999.995544800477\n",
            "-499999.994524091948\n",
            "-499999.994363724196\n",
            "-499999.993120838189\n",
            "-499999.989715505100\n"
          ]
        }
      ],
      "source": [
        "!wc -l output_ska\n",
        "!head output_ska"
      ]
    },
    {
      "cell_type": "markdown",
      "metadata": {
        "id": "ga7SN4ZJzqyK"
      },
      "source": [
        "速い。sort部分の処理時間はSTLのsortの半分以下です。IOを含めたコマンドとしては5%ほどの時間短縮ですが、内部で浮動小数点数のソートが必要なプログラムにはとても有効なことが分かりました。"
      ]
    }
  ],
  "metadata": {
    "colab": {
      "provenance": [],
      "authorship_tag": "ABX9TyM0cagWLA30DE1TNIF387Yz",
      "include_colab_link": true
    },
    "kernelspec": {
      "display_name": "Python 3",
      "name": "python3"
    },
    "language_info": {
      "name": "python"
    }
  },
  "nbformat": 4,
  "nbformat_minor": 0
}